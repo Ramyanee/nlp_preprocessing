{
  "nbformat": 4,
  "nbformat_minor": 0,
  "metadata": {
    "colab": {
      "name": "nlp_text_preprocessing.ipynb",
      "provenance": [],
      "collapsed_sections": [],
      "authorship_tag": "ABX9TyNOyFAKSJ1egA2kSJAyfVFz",
      "include_colab_link": true
    },
    "kernelspec": {
      "name": "python3",
      "display_name": "Python 3"
    }
  },
  "cells": [
    {
      "cell_type": "markdown",
      "metadata": {
        "id": "view-in-github",
        "colab_type": "text"
      },
      "source": [
        "<a href=\"https://colab.research.google.com/github/Ramyanee/nlp_preprocessing/blob/master/nlp_text_preprocessing.ipynb\" target=\"_parent\"><img src=\"https://colab.research.google.com/assets/colab-badge.svg\" alt=\"Open In Colab\"/></a>"
      ]
    },
    {
      "cell_type": "code",
      "metadata": {
        "id": "VwGKuJno0QRE",
        "colab_type": "code",
        "colab": {}
      },
      "source": [
        "import tensorflow as tf"
      ],
      "execution_count": 0,
      "outputs": []
    },
    {
      "cell_type": "code",
      "metadata": {
        "id": "ONS6bvin2Aoq",
        "colab_type": "code",
        "outputId": "70827599-ef7e-4856-9304-ef004dc467e5",
        "colab": {
          "base_uri": "https://localhost:8080/",
          "height": 33
        }
      },
      "source": [
        "tf.__version__\n"
      ],
      "execution_count": 0,
      "outputs": [
        {
          "output_type": "execute_result",
          "data": {
            "text/plain": [
              "'2.2.0-rc4'"
            ]
          },
          "metadata": {
            "tags": []
          },
          "execution_count": 14
        }
      ]
    },
    {
      "cell_type": "code",
      "metadata": {
        "id": "SJhpG7_a2DC0",
        "colab_type": "code",
        "colab": {}
      },
      "source": [
        "from tensorflow.keras.preprocessing.text import Tokenizer as tk"
      ],
      "execution_count": 0,
      "outputs": []
    },
    {
      "cell_type": "code",
      "metadata": {
        "id": "LWV1uHpQ2SAp",
        "colab_type": "code",
        "colab": {}
      },
      "source": [
        "from tensorflow.keras.preprocessing.sequence import pad_sequences as pd_sq"
      ],
      "execution_count": 0,
      "outputs": []
    },
    {
      "cell_type": "code",
      "metadata": {
        "id": "0TKJhMKI2gSM",
        "colab_type": "code",
        "colab": {}
      },
      "source": [
        "sentences = [\n",
        "             \"i love mountains and breeze.\",\n",
        "             \"i am going to be awesome.\",\n",
        "             \"i was born awesome.\"\n",
        "]"
      ],
      "execution_count": 0,
      "outputs": []
    },
    {
      "cell_type": "code",
      "metadata": {
        "id": "LSAj-1XA2xI9",
        "colab_type": "code",
        "colab": {}
      },
      "source": [
        "MAX_VOCAB_SIZE = 20000"
      ],
      "execution_count": 0,
      "outputs": []
    },
    {
      "cell_type": "code",
      "metadata": {
        "id": "2125XegV215J",
        "colab_type": "code",
        "colab": {}
      },
      "source": [
        "tokenizer = tk(num_words = MAX_VOCAB_SIZE)"
      ],
      "execution_count": 0,
      "outputs": []
    },
    {
      "cell_type": "code",
      "metadata": {
        "id": "-2qJva0836i9",
        "colab_type": "code",
        "colab": {}
      },
      "source": [
        "tokenizer.fit_on_texts(sentences)"
      ],
      "execution_count": 0,
      "outputs": []
    },
    {
      "cell_type": "code",
      "metadata": {
        "id": "rvUXq0if7T3a",
        "colab_type": "code",
        "colab": {}
      },
      "source": [
        "sequences = tokenizer.texts_to_sequences(sentences)"
      ],
      "execution_count": 0,
      "outputs": []
    },
    {
      "cell_type": "code",
      "metadata": {
        "id": "B-EJlws98N8d",
        "colab_type": "code",
        "outputId": "b8c0cc9f-1837-4788-d610-19f894e6dd49",
        "colab": {
          "base_uri": "https://localhost:8080/",
          "height": 33
        }
      },
      "source": [
        "sequences"
      ],
      "execution_count": 0,
      "outputs": [
        {
          "output_type": "execute_result",
          "data": {
            "text/plain": [
              "[[1, 3, 4, 5, 6], [1, 7, 8, 9, 10, 2], [1, 11, 12, 2]]"
            ]
          },
          "metadata": {
            "tags": []
          },
          "execution_count": 26
        }
      ]
    },
    {
      "cell_type": "code",
      "metadata": {
        "id": "4pPgNm548i9S",
        "colab_type": "code",
        "outputId": "9ed56c99-ecc8-4124-cb3f-f2f38477ea6f",
        "colab": {
          "base_uri": "https://localhost:8080/",
          "height": 217
        }
      },
      "source": [
        "tokenizer.word_index"
      ],
      "execution_count": 0,
      "outputs": [
        {
          "output_type": "execute_result",
          "data": {
            "text/plain": [
              "{'am': 7,\n",
              " 'and': 5,\n",
              " 'awesome': 2,\n",
              " 'be': 10,\n",
              " 'born': 12,\n",
              " 'breeze': 6,\n",
              " 'going': 8,\n",
              " 'i': 1,\n",
              " 'love': 3,\n",
              " 'mountains': 4,\n",
              " 'to': 9,\n",
              " 'was': 11}"
            ]
          },
          "metadata": {
            "tags": []
          },
          "execution_count": 27
        }
      ]
    },
    {
      "cell_type": "code",
      "metadata": {
        "id": "9jWY7_SW9qVn",
        "colab_type": "code",
        "colab": {}
      },
      "source": [
        "data = pd_sq(sequences)"
      ],
      "execution_count": 0,
      "outputs": []
    },
    {
      "cell_type": "code",
      "metadata": {
        "id": "sqaoHl9tDUht",
        "colab_type": "code",
        "outputId": "9018aeb5-f93c-4dc6-8545-470f8b9c4086",
        "colab": {
          "base_uri": "https://localhost:8080/",
          "height": 67
        }
      },
      "source": [
        "data"
      ],
      "execution_count": 0,
      "outputs": [
        {
          "output_type": "execute_result",
          "data": {
            "text/plain": [
              "array([[ 0,  1,  3,  4,  5,  6],\n",
              "       [ 1,  7,  8,  9, 10,  2],\n",
              "       [ 0,  0,  1, 11, 12,  2]], dtype=int32)"
            ]
          },
          "metadata": {
            "tags": []
          },
          "execution_count": 29
        }
      ]
    },
    {
      "cell_type": "code",
      "metadata": {
        "id": "MfKeOS5zDVMs",
        "colab_type": "code",
        "colab": {}
      },
      "source": [
        "MAX_SEQ_LEN = 10"
      ],
      "execution_count": 0,
      "outputs": []
    },
    {
      "cell_type": "code",
      "metadata": {
        "id": "k21cjfNaD7jv",
        "colab_type": "code",
        "colab": {}
      },
      "source": [
        "data = pd_sq(sequences, maxlen= MAX_SEQ_LEN)"
      ],
      "execution_count": 0,
      "outputs": []
    },
    {
      "cell_type": "code",
      "metadata": {
        "id": "E96zNgVVEA0d",
        "colab_type": "code",
        "outputId": "24885c32-b3e8-419d-c969-e65f4209d5fa",
        "colab": {
          "base_uri": "https://localhost:8080/",
          "height": 67
        }
      },
      "source": [
        "data"
      ],
      "execution_count": 0,
      "outputs": [
        {
          "output_type": "execute_result",
          "data": {
            "text/plain": [
              "array([[ 0,  0,  0,  0,  0,  1,  3,  4,  5,  6],\n",
              "       [ 0,  0,  0,  0,  1,  7,  8,  9, 10,  2],\n",
              "       [ 0,  0,  0,  0,  0,  0,  1, 11, 12,  2]], dtype=int32)"
            ]
          },
          "metadata": {
            "tags": []
          },
          "execution_count": 34
        }
      ]
    },
    {
      "cell_type": "code",
      "metadata": {
        "id": "6cD7BwYLEMiO",
        "colab_type": "code",
        "colab": {}
      },
      "source": [
        "data = pd_sq(sequences, maxlen= MAX_SEQ_LEN, padding = 'post')"
      ],
      "execution_count": 0,
      "outputs": []
    },
    {
      "cell_type": "code",
      "metadata": {
        "id": "we2lqz5GE0KP",
        "colab_type": "code",
        "outputId": "fdd89cbf-7f49-458e-b0db-ea3d0b97c496",
        "colab": {
          "base_uri": "https://localhost:8080/",
          "height": 67
        }
      },
      "source": [
        "data"
      ],
      "execution_count": 0,
      "outputs": [
        {
          "output_type": "execute_result",
          "data": {
            "text/plain": [
              "array([[ 1,  3,  4,  5,  6,  0,  0,  0,  0,  0],\n",
              "       [ 1,  7,  8,  9, 10,  2,  0,  0,  0,  0],\n",
              "       [ 1, 11, 12,  2,  0,  0,  0,  0,  0,  0]], dtype=int32)"
            ]
          },
          "metadata": {
            "tags": []
          },
          "execution_count": 36
        }
      ]
    },
    {
      "cell_type": "code",
      "metadata": {
        "id": "A3bQIA3jE1-K",
        "colab_type": "code",
        "colab": {}
      },
      "source": [
        "data = pd_sq(sequences, maxlen= 5)"
      ],
      "execution_count": 0,
      "outputs": []
    },
    {
      "cell_type": "code",
      "metadata": {
        "id": "wip1-T14E8Vx",
        "colab_type": "code",
        "outputId": "9e096b86-e9af-457d-b3f1-9f87a9b0e7bf",
        "colab": {
          "base_uri": "https://localhost:8080/",
          "height": 67
        }
      },
      "source": [
        "data"
      ],
      "execution_count": 0,
      "outputs": [
        {
          "output_type": "execute_result",
          "data": {
            "text/plain": [
              "array([[ 1,  3,  4,  5,  6],\n",
              "       [ 7,  8,  9, 10,  2],\n",
              "       [ 0,  1, 11, 12,  2]], dtype=int32)"
            ]
          },
          "metadata": {
            "tags": []
          },
          "execution_count": 38
        }
      ]
    },
    {
      "cell_type": "code",
      "metadata": {
        "id": "-Q11PvTiE9IZ",
        "colab_type": "code",
        "outputId": "d880166a-228f-4759-8806-e2649b90c170",
        "colab": {
          "base_uri": "https://localhost:8080/",
          "height": 67
        }
      },
      "source": [
        "data = pd_sq(sequences, maxlen= 5, truncating = \"post\")\n",
        "data"
      ],
      "execution_count": 0,
      "outputs": [
        {
          "output_type": "execute_result",
          "data": {
            "text/plain": [
              "array([[ 1,  3,  4,  5,  6],\n",
              "       [ 1,  7,  8,  9, 10],\n",
              "       [ 0,  1, 11, 12,  2]], dtype=int32)"
            ]
          },
          "metadata": {
            "tags": []
          },
          "execution_count": 40
        }
      ]
    },
    {
      "cell_type": "code",
      "metadata": {
        "id": "6qPSe-lUFeOC",
        "colab_type": "code",
        "colab": {}
      },
      "source": [
        ""
      ],
      "execution_count": 0,
      "outputs": []
    }
  ]
}